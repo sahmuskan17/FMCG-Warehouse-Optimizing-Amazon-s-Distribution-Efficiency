{
  "nbformat": 4,
  "nbformat_minor": 0,
  "metadata": {
    "colab": {
      "provenance": [],
      "authorship_tag": "ABX9TyPxP2j+zPKPRWDnJyJ5KNj4",
      "include_colab_link": true
    },
    "kernelspec": {
      "name": "python3",
      "display_name": "Python 3"
    },
    "language_info": {
      "name": "python"
    }
  },
  "cells": [
    {
      "cell_type": "markdown",
      "metadata": {
        "id": "view-in-github",
        "colab_type": "text"
      },
      "source": [
        "<a href=\"https://colab.research.google.com/github/sahmuskan17/FMCG-Warehouse-Optimizing-Amazon-s-Distribution-Efficiency/blob/main/FWCG.ipynb\" target=\"_parent\"><img src=\"https://colab.research.google.com/assets/colab-badge.svg\" alt=\"Open In Colab\"/></a>"
      ]
    },
    {
      "cell_type": "markdown",
      "source": [
        "## **FMCG Warehouse: Optimizing Amazon's Distribution Efficiency**\n",
        "\n"
      ],
      "metadata": {
        "id": "ndd89yCx8Ape"
      }
    },
    {
      "cell_type": "markdown",
      "source": [
        "#####**Background:**\n",
        "You are a data analyst at Amazon, which has an extensive network of warehouses across various regions. The company is facing challenges in ensuring efficient warehouse operations, resulting in frequent stockouts, delays in deliveries, and increased operational costs. The management has tasked you with analyzing the data from these warehouses to identify key issues and provide actionable insights to enhance warehouse efficiency."
      ],
      "metadata": {
        "id": "NmZctiQf8XbG"
      }
    },
    {
      "cell_type": "markdown",
      "source": [
        "#####**Problem Statement**\n",
        "Problem Statement: Amazon is experiencing inefficiencies in its warehouse operations. These inefficiencies are affecting the supply chain, leading to stockouts, delivery delays, and increased costs. Your task is to analyze warehouse data to uncover the root causes of these issues and propose data-driven solutions to optimize warehouse performance."
      ],
      "metadata": {
        "id": "QwOwtnK-8oc1"
      }
    },
    {
      "cell_type": "markdown",
      "source": [
        "**Importing Libraries**"
      ],
      "metadata": {
        "id": "QqSuaSn43sdO"
      }
    },
    {
      "cell_type": "code",
      "execution_count": null,
      "metadata": {
        "id": "gtkUwGDRJVIs"
      },
      "outputs": [],
      "source": [
        "import pandas as pd\n",
        "import numpy as np\n",
        "import matplotlib.pyplot as plt\n",
        "import seaborn as sns"
      ]
    },
    {
      "cell_type": "code",
      "source": [
        "df = pd.read_csv(\"/content/FMCG_data.csv\")  #Loading the dataset\n",
        "df.head()"
      ],
      "metadata": {
        "colab": {
          "base_uri": "https://localhost:8080/",
          "height": 255
        },
        "id": "sGZYoWEuJe4Z",
        "outputId": "7e194818-e9ac-4dcb-ae06-48f367155bb1"
      },
      "execution_count": null,
      "outputs": [
        {
          "output_type": "execute_result",
          "data": {
            "text/plain": [
              "  Ware_house_ID WH_Manager_ID Location_type WH_capacity_size   zone  \\\n",
              "0     WH_100000     EID_50000         Urban            Small   West   \n",
              "1     WH_100001     EID_50001         Rural            Large  North   \n",
              "2     WH_100002     EID_50002         Rural              Mid  South   \n",
              "3     WH_100003     EID_50003         Rural              Mid  North   \n",
              "4     WH_100004     EID_50004         Rural            Large  North   \n",
              "\n",
              "  WH_regional_zone  num_refill_req_l3m  transport_issue_l1y  \\\n",
              "0           Zone 6                   3                    1   \n",
              "1           Zone 5                   0                    0   \n",
              "2           Zone 2                   1                    0   \n",
              "3           Zone 3                   7                    4   \n",
              "4           Zone 5                   3                    1   \n",
              "\n",
              "   Competitor_in_mkt  retail_shop_num  ... electric_supply  dist_from_hub  \\\n",
              "0                  2             4651  ...               1             91   \n",
              "1                  4             6217  ...               1            210   \n",
              "2                  4             4306  ...               0            161   \n",
              "3                  2             6000  ...               0            103   \n",
              "4                  2             4740  ...               1            112   \n",
              "\n",
              "   workers_num  wh_est_year  storage_issue_reported_l3m  temp_reg_mach  \\\n",
              "0         29.0          NaN                          13              0   \n",
              "1         31.0          NaN                           4              0   \n",
              "2         37.0          NaN                          17              0   \n",
              "3         21.0          NaN                          17              1   \n",
              "4         25.0       2009.0                          18              0   \n",
              "\n",
              "   approved_wh_govt_certificate  wh_breakdown_l3m  govt_check_l3m  \\\n",
              "0                             A                 5              15   \n",
              "1                             A                 3              17   \n",
              "2                             A                 6              22   \n",
              "3                            A+                 3              27   \n",
              "4                             C                 6              24   \n",
              "\n",
              "   product_wg_ton  \n",
              "0           17115  \n",
              "1            5074  \n",
              "2           23137  \n",
              "3           22115  \n",
              "4           24071  \n",
              "\n",
              "[5 rows x 24 columns]"
            ],
            "text/html": [
              "\n",
              "  <div id=\"df-07e02e08-4b41-4e9d-bcd6-7e201e40cf17\" class=\"colab-df-container\">\n",
              "    <div>\n",
              "<style scoped>\n",
              "    .dataframe tbody tr th:only-of-type {\n",
              "        vertical-align: middle;\n",
              "    }\n",
              "\n",
              "    .dataframe tbody tr th {\n",
              "        vertical-align: top;\n",
              "    }\n",
              "\n",
              "    .dataframe thead th {\n",
              "        text-align: right;\n",
              "    }\n",
              "</style>\n",
              "<table border=\"1\" class=\"dataframe\">\n",
              "  <thead>\n",
              "    <tr style=\"text-align: right;\">\n",
              "      <th></th>\n",
              "      <th>Ware_house_ID</th>\n",
              "      <th>WH_Manager_ID</th>\n",
              "      <th>Location_type</th>\n",
              "      <th>WH_capacity_size</th>\n",
              "      <th>zone</th>\n",
              "      <th>WH_regional_zone</th>\n",
              "      <th>num_refill_req_l3m</th>\n",
              "      <th>transport_issue_l1y</th>\n",
              "      <th>Competitor_in_mkt</th>\n",
              "      <th>retail_shop_num</th>\n",
              "      <th>...</th>\n",
              "      <th>electric_supply</th>\n",
              "      <th>dist_from_hub</th>\n",
              "      <th>workers_num</th>\n",
              "      <th>wh_est_year</th>\n",
              "      <th>storage_issue_reported_l3m</th>\n",
              "      <th>temp_reg_mach</th>\n",
              "      <th>approved_wh_govt_certificate</th>\n",
              "      <th>wh_breakdown_l3m</th>\n",
              "      <th>govt_check_l3m</th>\n",
              "      <th>product_wg_ton</th>\n",
              "    </tr>\n",
              "  </thead>\n",
              "  <tbody>\n",
              "    <tr>\n",
              "      <th>0</th>\n",
              "      <td>WH_100000</td>\n",
              "      <td>EID_50000</td>\n",
              "      <td>Urban</td>\n",
              "      <td>Small</td>\n",
              "      <td>West</td>\n",
              "      <td>Zone 6</td>\n",
              "      <td>3</td>\n",
              "      <td>1</td>\n",
              "      <td>2</td>\n",
              "      <td>4651</td>\n",
              "      <td>...</td>\n",
              "      <td>1</td>\n",
              "      <td>91</td>\n",
              "      <td>29.0</td>\n",
              "      <td>NaN</td>\n",
              "      <td>13</td>\n",
              "      <td>0</td>\n",
              "      <td>A</td>\n",
              "      <td>5</td>\n",
              "      <td>15</td>\n",
              "      <td>17115</td>\n",
              "    </tr>\n",
              "    <tr>\n",
              "      <th>1</th>\n",
              "      <td>WH_100001</td>\n",
              "      <td>EID_50001</td>\n",
              "      <td>Rural</td>\n",
              "      <td>Large</td>\n",
              "      <td>North</td>\n",
              "      <td>Zone 5</td>\n",
              "      <td>0</td>\n",
              "      <td>0</td>\n",
              "      <td>4</td>\n",
              "      <td>6217</td>\n",
              "      <td>...</td>\n",
              "      <td>1</td>\n",
              "      <td>210</td>\n",
              "      <td>31.0</td>\n",
              "      <td>NaN</td>\n",
              "      <td>4</td>\n",
              "      <td>0</td>\n",
              "      <td>A</td>\n",
              "      <td>3</td>\n",
              "      <td>17</td>\n",
              "      <td>5074</td>\n",
              "    </tr>\n",
              "    <tr>\n",
              "      <th>2</th>\n",
              "      <td>WH_100002</td>\n",
              "      <td>EID_50002</td>\n",
              "      <td>Rural</td>\n",
              "      <td>Mid</td>\n",
              "      <td>South</td>\n",
              "      <td>Zone 2</td>\n",
              "      <td>1</td>\n",
              "      <td>0</td>\n",
              "      <td>4</td>\n",
              "      <td>4306</td>\n",
              "      <td>...</td>\n",
              "      <td>0</td>\n",
              "      <td>161</td>\n",
              "      <td>37.0</td>\n",
              "      <td>NaN</td>\n",
              "      <td>17</td>\n",
              "      <td>0</td>\n",
              "      <td>A</td>\n",
              "      <td>6</td>\n",
              "      <td>22</td>\n",
              "      <td>23137</td>\n",
              "    </tr>\n",
              "    <tr>\n",
              "      <th>3</th>\n",
              "      <td>WH_100003</td>\n",
              "      <td>EID_50003</td>\n",
              "      <td>Rural</td>\n",
              "      <td>Mid</td>\n",
              "      <td>North</td>\n",
              "      <td>Zone 3</td>\n",
              "      <td>7</td>\n",
              "      <td>4</td>\n",
              "      <td>2</td>\n",
              "      <td>6000</td>\n",
              "      <td>...</td>\n",
              "      <td>0</td>\n",
              "      <td>103</td>\n",
              "      <td>21.0</td>\n",
              "      <td>NaN</td>\n",
              "      <td>17</td>\n",
              "      <td>1</td>\n",
              "      <td>A+</td>\n",
              "      <td>3</td>\n",
              "      <td>27</td>\n",
              "      <td>22115</td>\n",
              "    </tr>\n",
              "    <tr>\n",
              "      <th>4</th>\n",
              "      <td>WH_100004</td>\n",
              "      <td>EID_50004</td>\n",
              "      <td>Rural</td>\n",
              "      <td>Large</td>\n",
              "      <td>North</td>\n",
              "      <td>Zone 5</td>\n",
              "      <td>3</td>\n",
              "      <td>1</td>\n",
              "      <td>2</td>\n",
              "      <td>4740</td>\n",
              "      <td>...</td>\n",
              "      <td>1</td>\n",
              "      <td>112</td>\n",
              "      <td>25.0</td>\n",
              "      <td>2009.0</td>\n",
              "      <td>18</td>\n",
              "      <td>0</td>\n",
              "      <td>C</td>\n",
              "      <td>6</td>\n",
              "      <td>24</td>\n",
              "      <td>24071</td>\n",
              "    </tr>\n",
              "  </tbody>\n",
              "</table>\n",
              "<p>5 rows × 24 columns</p>\n",
              "</div>\n",
              "    <div class=\"colab-df-buttons\">\n",
              "\n",
              "  <div class=\"colab-df-container\">\n",
              "    <button class=\"colab-df-convert\" onclick=\"convertToInteractive('df-07e02e08-4b41-4e9d-bcd6-7e201e40cf17')\"\n",
              "            title=\"Convert this dataframe to an interactive table.\"\n",
              "            style=\"display:none;\">\n",
              "\n",
              "  <svg xmlns=\"http://www.w3.org/2000/svg\" height=\"24px\" viewBox=\"0 -960 960 960\">\n",
              "    <path d=\"M120-120v-720h720v720H120Zm60-500h600v-160H180v160Zm220 220h160v-160H400v160Zm0 220h160v-160H400v160ZM180-400h160v-160H180v160Zm440 0h160v-160H620v160ZM180-180h160v-160H180v160Zm440 0h160v-160H620v160Z\"/>\n",
              "  </svg>\n",
              "    </button>\n",
              "\n",
              "  <style>\n",
              "    .colab-df-container {\n",
              "      display:flex;\n",
              "      gap: 12px;\n",
              "    }\n",
              "\n",
              "    .colab-df-convert {\n",
              "      background-color: #E8F0FE;\n",
              "      border: none;\n",
              "      border-radius: 50%;\n",
              "      cursor: pointer;\n",
              "      display: none;\n",
              "      fill: #1967D2;\n",
              "      height: 32px;\n",
              "      padding: 0 0 0 0;\n",
              "      width: 32px;\n",
              "    }\n",
              "\n",
              "    .colab-df-convert:hover {\n",
              "      background-color: #E2EBFA;\n",
              "      box-shadow: 0px 1px 2px rgba(60, 64, 67, 0.3), 0px 1px 3px 1px rgba(60, 64, 67, 0.15);\n",
              "      fill: #174EA6;\n",
              "    }\n",
              "\n",
              "    .colab-df-buttons div {\n",
              "      margin-bottom: 4px;\n",
              "    }\n",
              "\n",
              "    [theme=dark] .colab-df-convert {\n",
              "      background-color: #3B4455;\n",
              "      fill: #D2E3FC;\n",
              "    }\n",
              "\n",
              "    [theme=dark] .colab-df-convert:hover {\n",
              "      background-color: #434B5C;\n",
              "      box-shadow: 0px 1px 3px 1px rgba(0, 0, 0, 0.15);\n",
              "      filter: drop-shadow(0px 1px 2px rgba(0, 0, 0, 0.3));\n",
              "      fill: #FFFFFF;\n",
              "    }\n",
              "  </style>\n",
              "\n",
              "    <script>\n",
              "      const buttonEl =\n",
              "        document.querySelector('#df-07e02e08-4b41-4e9d-bcd6-7e201e40cf17 button.colab-df-convert');\n",
              "      buttonEl.style.display =\n",
              "        google.colab.kernel.accessAllowed ? 'block' : 'none';\n",
              "\n",
              "      async function convertToInteractive(key) {\n",
              "        const element = document.querySelector('#df-07e02e08-4b41-4e9d-bcd6-7e201e40cf17');\n",
              "        const dataTable =\n",
              "          await google.colab.kernel.invokeFunction('convertToInteractive',\n",
              "                                                    [key], {});\n",
              "        if (!dataTable) return;\n",
              "\n",
              "        const docLinkHtml = 'Like what you see? Visit the ' +\n",
              "          '<a target=\"_blank\" href=https://colab.research.google.com/notebooks/data_table.ipynb>data table notebook</a>'\n",
              "          + ' to learn more about interactive tables.';\n",
              "        element.innerHTML = '';\n",
              "        dataTable['output_type'] = 'display_data';\n",
              "        await google.colab.output.renderOutput(dataTable, element);\n",
              "        const docLink = document.createElement('div');\n",
              "        docLink.innerHTML = docLinkHtml;\n",
              "        element.appendChild(docLink);\n",
              "      }\n",
              "    </script>\n",
              "  </div>\n",
              "\n",
              "\n",
              "<div id=\"df-f5f51ea0-295f-4f90-853c-61e4cc2fcb53\">\n",
              "  <button class=\"colab-df-quickchart\" onclick=\"quickchart('df-f5f51ea0-295f-4f90-853c-61e4cc2fcb53')\"\n",
              "            title=\"Suggest charts\"\n",
              "            style=\"display:none;\">\n",
              "\n",
              "<svg xmlns=\"http://www.w3.org/2000/svg\" height=\"24px\"viewBox=\"0 0 24 24\"\n",
              "     width=\"24px\">\n",
              "    <g>\n",
              "        <path d=\"M19 3H5c-1.1 0-2 .9-2 2v14c0 1.1.9 2 2 2h14c1.1 0 2-.9 2-2V5c0-1.1-.9-2-2-2zM9 17H7v-7h2v7zm4 0h-2V7h2v10zm4 0h-2v-4h2v4z\"/>\n",
              "    </g>\n",
              "</svg>\n",
              "  </button>\n",
              "\n",
              "<style>\n",
              "  .colab-df-quickchart {\n",
              "      --bg-color: #E8F0FE;\n",
              "      --fill-color: #1967D2;\n",
              "      --hover-bg-color: #E2EBFA;\n",
              "      --hover-fill-color: #174EA6;\n",
              "      --disabled-fill-color: #AAA;\n",
              "      --disabled-bg-color: #DDD;\n",
              "  }\n",
              "\n",
              "  [theme=dark] .colab-df-quickchart {\n",
              "      --bg-color: #3B4455;\n",
              "      --fill-color: #D2E3FC;\n",
              "      --hover-bg-color: #434B5C;\n",
              "      --hover-fill-color: #FFFFFF;\n",
              "      --disabled-bg-color: #3B4455;\n",
              "      --disabled-fill-color: #666;\n",
              "  }\n",
              "\n",
              "  .colab-df-quickchart {\n",
              "    background-color: var(--bg-color);\n",
              "    border: none;\n",
              "    border-radius: 50%;\n",
              "    cursor: pointer;\n",
              "    display: none;\n",
              "    fill: var(--fill-color);\n",
              "    height: 32px;\n",
              "    padding: 0;\n",
              "    width: 32px;\n",
              "  }\n",
              "\n",
              "  .colab-df-quickchart:hover {\n",
              "    background-color: var(--hover-bg-color);\n",
              "    box-shadow: 0 1px 2px rgba(60, 64, 67, 0.3), 0 1px 3px 1px rgba(60, 64, 67, 0.15);\n",
              "    fill: var(--button-hover-fill-color);\n",
              "  }\n",
              "\n",
              "  .colab-df-quickchart-complete:disabled,\n",
              "  .colab-df-quickchart-complete:disabled:hover {\n",
              "    background-color: var(--disabled-bg-color);\n",
              "    fill: var(--disabled-fill-color);\n",
              "    box-shadow: none;\n",
              "  }\n",
              "\n",
              "  .colab-df-spinner {\n",
              "    border: 2px solid var(--fill-color);\n",
              "    border-color: transparent;\n",
              "    border-bottom-color: var(--fill-color);\n",
              "    animation:\n",
              "      spin 1s steps(1) infinite;\n",
              "  }\n",
              "\n",
              "  @keyframes spin {\n",
              "    0% {\n",
              "      border-color: transparent;\n",
              "      border-bottom-color: var(--fill-color);\n",
              "      border-left-color: var(--fill-color);\n",
              "    }\n",
              "    20% {\n",
              "      border-color: transparent;\n",
              "      border-left-color: var(--fill-color);\n",
              "      border-top-color: var(--fill-color);\n",
              "    }\n",
              "    30% {\n",
              "      border-color: transparent;\n",
              "      border-left-color: var(--fill-color);\n",
              "      border-top-color: var(--fill-color);\n",
              "      border-right-color: var(--fill-color);\n",
              "    }\n",
              "    40% {\n",
              "      border-color: transparent;\n",
              "      border-right-color: var(--fill-color);\n",
              "      border-top-color: var(--fill-color);\n",
              "    }\n",
              "    60% {\n",
              "      border-color: transparent;\n",
              "      border-right-color: var(--fill-color);\n",
              "    }\n",
              "    80% {\n",
              "      border-color: transparent;\n",
              "      border-right-color: var(--fill-color);\n",
              "      border-bottom-color: var(--fill-color);\n",
              "    }\n",
              "    90% {\n",
              "      border-color: transparent;\n",
              "      border-bottom-color: var(--fill-color);\n",
              "    }\n",
              "  }\n",
              "</style>\n",
              "\n",
              "  <script>\n",
              "    async function quickchart(key) {\n",
              "      const quickchartButtonEl =\n",
              "        document.querySelector('#' + key + ' button');\n",
              "      quickchartButtonEl.disabled = true;  // To prevent multiple clicks.\n",
              "      quickchartButtonEl.classList.add('colab-df-spinner');\n",
              "      try {\n",
              "        const charts = await google.colab.kernel.invokeFunction(\n",
              "            'suggestCharts', [key], {});\n",
              "      } catch (error) {\n",
              "        console.error('Error during call to suggestCharts:', error);\n",
              "      }\n",
              "      quickchartButtonEl.classList.remove('colab-df-spinner');\n",
              "      quickchartButtonEl.classList.add('colab-df-quickchart-complete');\n",
              "    }\n",
              "    (() => {\n",
              "      let quickchartButtonEl =\n",
              "        document.querySelector('#df-f5f51ea0-295f-4f90-853c-61e4cc2fcb53 button');\n",
              "      quickchartButtonEl.style.display =\n",
              "        google.colab.kernel.accessAllowed ? 'block' : 'none';\n",
              "    })();\n",
              "  </script>\n",
              "</div>\n",
              "\n",
              "    </div>\n",
              "  </div>\n"
            ],
            "application/vnd.google.colaboratory.intrinsic+json": {
              "type": "dataframe",
              "variable_name": "df"
            }
          },
          "metadata": {},
          "execution_count": 3
        }
      ]
    },
    {
      "cell_type": "code",
      "source": [
        "df.isnull().sum() #checking for null values"
      ],
      "metadata": {
        "colab": {
          "base_uri": "https://localhost:8080/"
        },
        "id": "nbFmYyFoJ3tI",
        "outputId": "170f7964-ab5d-4940-aeb0-e1feeccd3686"
      },
      "execution_count": null,
      "outputs": [
        {
          "output_type": "execute_result",
          "data": {
            "text/plain": [
              "Ware_house_ID                       0\n",
              "WH_Manager_ID                       0\n",
              "Location_type                       0\n",
              "WH_capacity_size                    0\n",
              "zone                                0\n",
              "WH_regional_zone                    0\n",
              "num_refill_req_l3m                  0\n",
              "transport_issue_l1y                 0\n",
              "Competitor_in_mkt                   0\n",
              "retail_shop_num                     0\n",
              "wh_owner_type                       0\n",
              "distributor_num                     0\n",
              "flood_impacted                      0\n",
              "flood_proof                         0\n",
              "electric_supply                     0\n",
              "dist_from_hub                       0\n",
              "workers_num                       990\n",
              "wh_est_year                     11881\n",
              "storage_issue_reported_l3m          0\n",
              "temp_reg_mach                       0\n",
              "approved_wh_govt_certificate      908\n",
              "wh_breakdown_l3m                    0\n",
              "govt_check_l3m                      0\n",
              "product_wg_ton                      0\n",
              "dtype: int64"
            ]
          },
          "metadata": {},
          "execution_count": 6
        }
      ]
    },
    {
      "cell_type": "code",
      "source": [
        "df.info() #checking for data types"
      ],
      "metadata": {
        "colab": {
          "base_uri": "https://localhost:8080/"
        },
        "id": "trGSJRCOKHpS",
        "outputId": "cb4b84b7-9e7f-434d-971c-487304cb90a1"
      },
      "execution_count": null,
      "outputs": [
        {
          "output_type": "stream",
          "name": "stdout",
          "text": [
            "<class 'pandas.core.frame.DataFrame'>\n",
            "RangeIndex: 25000 entries, 0 to 24999\n",
            "Data columns (total 24 columns):\n",
            " #   Column                        Non-Null Count  Dtype  \n",
            "---  ------                        --------------  -----  \n",
            " 0   Ware_house_ID                 25000 non-null  object \n",
            " 1   WH_Manager_ID                 25000 non-null  object \n",
            " 2   Location_type                 25000 non-null  object \n",
            " 3   WH_capacity_size              25000 non-null  object \n",
            " 4   zone                          25000 non-null  object \n",
            " 5   WH_regional_zone              25000 non-null  object \n",
            " 6   num_refill_req_l3m            25000 non-null  int64  \n",
            " 7   transport_issue_l1y           25000 non-null  int64  \n",
            " 8   Competitor_in_mkt             25000 non-null  int64  \n",
            " 9   retail_shop_num               25000 non-null  int64  \n",
            " 10  wh_owner_type                 25000 non-null  object \n",
            " 11  distributor_num               25000 non-null  int64  \n",
            " 12  flood_impacted                25000 non-null  int64  \n",
            " 13  flood_proof                   25000 non-null  int64  \n",
            " 14  electric_supply               25000 non-null  int64  \n",
            " 15  dist_from_hub                 25000 non-null  int64  \n",
            " 16  workers_num                   24010 non-null  float64\n",
            " 17  wh_est_year                   13119 non-null  float64\n",
            " 18  storage_issue_reported_l3m    25000 non-null  int64  \n",
            " 19  temp_reg_mach                 25000 non-null  int64  \n",
            " 20  approved_wh_govt_certificate  24092 non-null  object \n",
            " 21  wh_breakdown_l3m              25000 non-null  int64  \n",
            " 22  govt_check_l3m                25000 non-null  int64  \n",
            " 23  product_wg_ton                25000 non-null  int64  \n",
            "dtypes: float64(2), int64(14), object(8)\n",
            "memory usage: 4.6+ MB\n"
          ]
        }
      ]
    },
    {
      "cell_type": "code",
      "source": [
        "df.shape #checking for number of rows and columns"
      ],
      "metadata": {
        "colab": {
          "base_uri": "https://localhost:8080/"
        },
        "id": "ljBDK_2zqqGQ",
        "outputId": "d97db9c4-8d1d-462c-a9c6-08ee82548cfc"
      },
      "execution_count": null,
      "outputs": [
        {
          "output_type": "execute_result",
          "data": {
            "text/plain": [
              "(25000, 24)"
            ]
          },
          "metadata": {},
          "execution_count": 4
        }
      ]
    },
    {
      "cell_type": "code",
      "source": [
        "df.columns #checking for columns"
      ],
      "metadata": {
        "colab": {
          "base_uri": "https://localhost:8080/"
        },
        "id": "dgSoRRZsKMF7",
        "outputId": "df696ecc-88f3-4c43-d9b6-4fec190a7509"
      },
      "execution_count": null,
      "outputs": [
        {
          "output_type": "execute_result",
          "data": {
            "text/plain": [
              "Index(['Ware_house_ID', 'WH_Manager_ID', 'Location_type', 'WH_capacity_size',\n",
              "       'zone', 'WH_regional_zone', 'num_refill_req_l3m', 'transport_issue_l1y',\n",
              "       'Competitor_in_mkt', 'retail_shop_num', 'wh_owner_type',\n",
              "       'distributor_num', 'flood_impacted', 'flood_proof', 'electric_supply',\n",
              "       'dist_from_hub', 'workers_num', 'wh_est_year',\n",
              "       'storage_issue_reported_l3m', 'temp_reg_mach',\n",
              "       'approved_wh_govt_certificate', 'wh_breakdown_l3m', 'govt_check_l3m',\n",
              "       'product_wg_ton'],\n",
              "      dtype='object')"
            ]
          },
          "metadata": {},
          "execution_count": 8
        }
      ]
    },
    {
      "cell_type": "markdown",
      "source": [
        "##**Data Analysis**"
      ],
      "metadata": {
        "id": "LrJrM49l4FVi"
      }
    },
    {
      "cell_type": "markdown",
      "source": [
        "Q1-What is the average capacity size of the warehouses?"
      ],
      "metadata": {
        "id": "l0rFynq1N3vG"
      }
    },
    {
      "cell_type": "code",
      "source": [
        "cap_warehouse = df.groupby('WH_capacity_size')['Ware_house_ID'].nunique()\n",
        "cap_warehouse"
      ],
      "metadata": {
        "colab": {
          "base_uri": "https://localhost:8080/"
        },
        "id": "c1OW9yGZKUPx",
        "outputId": "5674f46c-58b3-4fd0-86d8-12c76a2f6d77"
      },
      "execution_count": null,
      "outputs": [
        {
          "output_type": "execute_result",
          "data": {
            "text/plain": [
              "WH_capacity_size\n",
              "Large    10169\n",
              "Mid      10020\n",
              "Small     4811\n",
              "Name: Ware_house_ID, dtype: int64"
            ]
          },
          "metadata": {},
          "execution_count": 5
        }
      ]
    },
    {
      "cell_type": "code",
      "source": [
        "cap_warehouse.plot(kind='bar', figsize=(5,2))\n",
        "plt.title('Average Capacity size of the warehouses')\n",
        "plt.show()"
      ],
      "metadata": {
        "colab": {
          "base_uri": "https://localhost:8080/",
          "height": 282
        },
        "id": "kOX0lBuoUHOV",
        "outputId": "e4897d9e-833d-4098-b130-c224eb0cf668"
      },
      "execution_count": null,
      "outputs": [
        {
          "output_type": "display_data",
          "data": {
            "text/plain": [
              "<Figure size 500x200 with 1 Axes>"
            ],
            "image/png": "[encoded data removed]"
          },
          "metadata": {}
        }
      ]
    },
    {
      "cell_type": "markdown",
      "source": [
        "Q2- How many warehouses are located in urban areas versus rural areas?"
      ],
      "metadata": {
        "id": "ScUmrFhfOhq8"
      }
    },
    {
      "cell_type": "code",
      "source": [
        "warehouse = df.groupby('Location_type')['Ware_house_ID'].nunique()\n",
        "warehouse"
      ],
      "metadata": {
        "colab": {
          "base_uri": "https://localhost:8080/"
        },
        "id": "QzE3axu-OJ3Z",
        "outputId": "2f999047-6eb8-4d65-8565-5f96a25b5026"
      },
      "execution_count": null,
      "outputs": [
        {
          "output_type": "execute_result",
          "data": {
            "text/plain": [
              "Location_type\n",
              "Rural    22957\n",
              "Urban     2043\n",
              "Name: Ware_house_ID, dtype: int64"
            ]
          },
          "metadata": {},
          "execution_count": 12
        }
      ]
    },
    {
      "cell_type": "code",
      "source": [
        "warehouse.plot(kind='pie', figsize =(7,4))\n",
        "plt.title('Urban vs Rural')\n",
        "plt.show()"
      ],
      "metadata": {
        "colab": {
          "base_uri": "https://localhost:8080/",
          "height": 367
        },
        "id": "5PLMiBYLvvOY",
        "outputId": "3c8468bd-d81f-4944-a5e5-5ac81ffb180b"
      },
      "execution_count": null,
      "outputs": [
        {
          "output_type": "display_data",
          "data": {
            "text/plain": [
              "<Figure size 700x400 with 1 Axes>"
            ],
            "image/png": "[encoded data removed]"
          },
          "metadata": {}
        }
      ]
    },
    {
      "cell_type": "markdown",
      "source": [
        "Q3-What is the total number of retail shops served by each zone?"
      ],
      "metadata": {
        "id": "5c7NFzgrQr86"
      }
    },
    {
      "cell_type": "code",
      "source": [
        "no_of_retail_shops = df.groupby('zone')['retail_shop_num'].nunique()\n",
        "no_of_retail_shops"
      ],
      "metadata": {
        "colab": {
          "base_uri": "https://localhost:8080/"
        },
        "id": "DDxNZ6SJO21q",
        "outputId": "19d43299-c994-4b43-eb67-2caf2e3f4a58"
      },
      "execution_count": null,
      "outputs": [
        {
          "output_type": "execute_result",
          "data": {
            "text/plain": [
              "zone\n",
              "East      415\n",
              "North    3750\n",
              "South    3145\n",
              "West     3310\n",
              "Name: retail_shop_num, dtype: int64"
            ]
          },
          "metadata": {},
          "execution_count": 19
        }
      ]
    },
    {
      "cell_type": "code",
      "source": [
        "sns.barplot(x =no_of_retail_shops,y = no_of_retail_shops.index)\n",
        "plt.title('Total number of retail shops served by each zone')\n",
        "plt.show()"
      ],
      "metadata": {
        "colab": {
          "base_uri": "https://localhost:8080/",
          "height": 472
        },
        "id": "vodHSo0Rw3g8",
        "outputId": "06682e80-8354-4c81-b108-cd09d275fa16"
      },
      "execution_count": null,
      "outputs": [
        {
          "output_type": "display_data",
          "data": {
            "text/plain": [
              "<Figure size 640x480 with 1 Axes>"
            ],
            "image/png": "[encoded data removed]"
          },
          "metadata": {}
        }
      ]
    },
    {
      "cell_type": "markdown",
      "source": [
        "Q4-Calculate the average number of workers per warehouse."
      ],
      "metadata": {
        "id": "utr75fITRH61"
      }
    },
    {
      "cell_type": "code",
      "source": [
        "avg_workers = df.groupby('Ware_house_ID')['workers_num'].mean()\n",
        "avg_workers"
      ],
      "metadata": {
        "colab": {
          "base_uri": "https://localhost:8080/"
        },
        "id": "U-8sPeyURFIH",
        "outputId": "ba154aa7-b34a-4020-9cc2-9fac119eaa6f"
      },
      "execution_count": null,
      "outputs": [
        {
          "output_type": "execute_result",
          "data": {
            "text/plain": [
              "Ware_house_ID\n",
              "WH_100000    29.0\n",
              "WH_100001    31.0\n",
              "WH_100002    37.0\n",
              "WH_100003    21.0\n",
              "WH_100004    25.0\n",
              "             ... \n",
              "WH_124995    34.0\n",
              "WH_124996    28.0\n",
              "WH_124997     NaN\n",
              "WH_124998    25.0\n",
              "WH_124999    39.0\n",
              "Name: workers_num, Length: 25000, dtype: float64"
            ]
          },
          "metadata": {},
          "execution_count": 21
        }
      ]
    },
    {
      "cell_type": "markdown",
      "source": [
        "Q5-Determine the percentage of warehouses with electric supply."
      ],
      "metadata": {
        "id": "3FD8C-PQW2jv"
      }
    },
    {
      "cell_type": "code",
      "source": [
        "warehouse = df.groupby('electric_supply')['Ware_house_ID'].nunique()\n",
        "warehouse"
      ],
      "metadata": {
        "colab": {
          "base_uri": "https://localhost:8080/"
        },
        "id": "qT3PeNr4RkZD",
        "outputId": "b8dc5a5e-4bea-440a-d10e-754e976f1af3"
      },
      "execution_count": null,
      "outputs": [
        {
          "output_type": "execute_result",
          "data": {
            "text/plain": [
              "electric_supply\n",
              "0     8578\n",
              "1    16422\n",
              "Name: Ware_house_ID, dtype: int64"
            ]
          },
          "metadata": {},
          "execution_count": 27
        }
      ]
    },
    {
      "cell_type": "markdown",
      "source": [
        "Here 0 means there is no power supply in warehouse\n",
        "And 1 means there is power supply"
      ],
      "metadata": {
        "id": "KRG3pxZ74mfK"
      }
    },
    {
      "cell_type": "code",
      "source": [
        "pct_warehouse = (warehouse/warehouse.sum())*100 #Here converting values into percentage\n",
        "pct_warehouse"
      ],
      "metadata": {
        "colab": {
          "base_uri": "https://localhost:8080/"
        },
        "id": "E5zU-wLkcCi4",
        "outputId": "766d12f3-051a-4d12-8679-7ff8533654d5"
      },
      "execution_count": null,
      "outputs": [
        {
          "output_type": "execute_result",
          "data": {
            "text/plain": [
              "electric_supply\n",
              "0    34.312\n",
              "1    65.688\n",
              "Name: Ware_house_ID, dtype: float64"
            ]
          },
          "metadata": {},
          "execution_count": 28
        }
      ]
    },
    {
      "cell_type": "code",
      "source": [
        "plt.pie(pct_warehouse, labels=pct_warehouse.index, autopct='%1.1f%%', startangle=90)\n",
        "plt.title('Percentage of warehouses with electric supply')\n",
        "plt.show()"
      ],
      "metadata": {
        "colab": {
          "base_uri": "https://localhost:8080/",
          "height": 428
        },
        "id": "afPTr7Dg0Sq5",
        "outputId": "238fcd5d-b030-4342-e137-5fb910692fb4"
      },
      "execution_count": null,
      "outputs": [
        {
          "output_type": "display_data",
          "data": {
            "text/plain": [
              "<Figure size 640x480 with 1 Axes>"
            ],
            "image/png": "[encoded data removed]"
          },
          "metadata": {}
        }
      ]
    },
    {
      "cell_type": "markdown",
      "source": [
        "Q6-What is the average distance of warehouses from the central distribution hub?"
      ],
      "metadata": {
        "id": "l1LgMLg-X4PE"
      }
    },
    {
      "cell_type": "code",
      "source": [
        "Avg_distance = df.groupby('WH_regional_zone')['dist_from_hub'].mean()\n",
        "Avg_distance"
      ],
      "metadata": {
        "colab": {
          "base_uri": "https://localhost:8080/"
        },
        "id": "h02GuX73XIcn",
        "outputId": "78b64bda-7ddc-45c4-9515-b18b0cb2e3c4"
      },
      "execution_count": null,
      "outputs": [
        {
          "output_type": "execute_result",
          "data": {
            "text/plain": [
              "WH_regional_zone\n",
              "Zone 1    162.361733\n",
              "Zone 2    162.865677\n",
              "Zone 3    163.013884\n",
              "Zone 4    164.709770\n",
              "Zone 5    163.997602\n",
              "Zone 6    163.406044\n",
              "Name: dist_from_hub, dtype: float64"
            ]
          },
          "metadata": {},
          "execution_count": 20
        }
      ]
    },
    {
      "cell_type": "markdown",
      "source": [
        "Q7-How many warehouses have reported storage issues in the last 3 months?"
      ],
      "metadata": {
        "id": "ElTEXc2UeTQg"
      }
    },
    {
      "cell_type": "code",
      "source": [
        "warehouse_issue = df[df['storage_issue_reported_l3m']>0]\n",
        "warehouse_issue_count = warehouse_issue['Ware_house_ID'].nunique()\n",
        "warehouse_issue_count"
      ],
      "metadata": {
        "colab": {
          "base_uri": "https://localhost:8080/"
        },
        "id": "vYvsWjxad2Ta",
        "outputId": "538b6968-e7c7-4319-da9a-5b288712addd"
      },
      "execution_count": null,
      "outputs": [
        {
          "output_type": "execute_result",
          "data": {
            "text/plain": [
              "24092"
            ]
          },
          "metadata": {},
          "execution_count": 21
        }
      ]
    },
    {
      "cell_type": "markdown",
      "source": [
        "##### There are 24092 warehouses that have reported storage issues in last 3 months."
      ],
      "metadata": {
        "id": "nwLh6X1n9y3v"
      }
    },
    {
      "cell_type": "markdown",
      "source": [
        "Q8-Identify the top 3 zones with the highest number of refill requests in the last 3 months."
      ],
      "metadata": {
        "id": "_XqWb33yi26I"
      }
    },
    {
      "cell_type": "code",
      "source": [
        "refill_request =df[df['num_refill_req_l3m']>0]\n",
        "top_3_zone = refill_request.groupby('zone')['num_refill_req_l3m'].count().nlargest(3)\n",
        "top_3_zone"
      ],
      "metadata": {
        "colab": {
          "base_uri": "https://localhost:8080/"
        },
        "id": "8r27sQNIisgX",
        "outputId": "3386c49a-514c-4480-a0d2-0103fcfba17c"
      },
      "execution_count": null,
      "outputs": [
        {
          "output_type": "execute_result",
          "data": {
            "text/plain": [
              "zone\n",
              "North    9086\n",
              "West     7022\n",
              "South    5610\n",
              "Name: num_refill_req_l3m, dtype: int64"
            ]
          },
          "metadata": {},
          "execution_count": 8
        }
      ]
    },
    {
      "cell_type": "code",
      "source": [
        "plt.figure(figsize=(5,2))\n",
        "sns.barplot(x =top_3_zone,y = top_3_zone.index)\n",
        "plt.title('Top 3 zones with the highest number of refill requests in the last 3 months')\n",
        "plt.show()"
      ],
      "metadata": {
        "colab": {
          "base_uri": "https://localhost:8080/",
          "height": 256
        },
        "id": "G-1e_dFU-th9",
        "outputId": "36c5cf6a-006b-47dd-e919-a36d17a7704d"
      },
      "execution_count": null,
      "outputs": [
        {
          "output_type": "display_data",
          "data": {
            "text/plain": [
              "<Figure size 500x200 with 1 Axes>"
            ],
            "image/png": "[encoded data removed]"
          },
          "metadata": {}
        }
      ]
    },
    {
      "cell_type": "markdown",
      "source": [
        "Q9-Calculate the average number of government checks per warehouse in the last 3 months."
      ],
      "metadata": {
        "id": "SNoUCN2YkxWc"
      }
    },
    {
      "cell_type": "code",
      "source": [
        "avg_govt_check_l3m = df.groupby('Ware_house_ID')['govt_check_l3m'].mean()\n",
        "avg_govt_check_l3m"
      ],
      "metadata": {
        "colab": {
          "base_uri": "https://localhost:8080/"
        },
        "id": "NZHKiPqLjqae",
        "outputId": "8bacfe4f-de20-404b-c44e-8eb4471116a5"
      },
      "execution_count": null,
      "outputs": [
        {
          "output_type": "execute_result",
          "data": {
            "text/plain": [
              "Ware_house_ID\n",
              "WH_100000    15.0\n",
              "WH_100001    17.0\n",
              "WH_100002    22.0\n",
              "WH_100003    27.0\n",
              "WH_100004    24.0\n",
              "             ... \n",
              "WH_124995    30.0\n",
              "WH_124996    18.0\n",
              "WH_124997    25.0\n",
              "WH_124998    30.0\n",
              "WH_124999    11.0\n",
              "Name: govt_check_l3m, Length: 25000, dtype: float64"
            ]
          },
          "metadata": {},
          "execution_count": 26
        }
      ]
    },
    {
      "cell_type": "markdown",
      "source": [
        "Q10-Determine the most common type of government certification among warehouses."
      ],
      "metadata": {
        "id": "qiXvNA5jlt3v"
      }
    },
    {
      "cell_type": "code",
      "source": [
        "most_common_type = df['approved_wh_govt_certificate'].value_counts()\n",
        "most_common_type"
      ],
      "metadata": {
        "colab": {
          "base_uri": "https://localhost:8080/"
        },
        "id": "XhqkDUVxlaQI",
        "outputId": "bbd53973-14b4-464b-9084-261714343a16"
      },
      "execution_count": null,
      "outputs": [
        {
          "output_type": "execute_result",
          "data": {
            "text/plain": [
              "approved_wh_govt_certificate\n",
              "C     5501\n",
              "B+    4917\n",
              "B     4812\n",
              "A     4671\n",
              "A+    4191\n",
              "Name: count, dtype: int64"
            ]
          },
          "metadata": {},
          "execution_count": 11
        }
      ]
    },
    {
      "cell_type": "code",
      "source": [
        "plt.figure(figsize=(5,2))\n",
        "colors = ['#1f77b4', '#ff7f0e', '#2ca02c', 'red', 'yellow']\n",
        "plt.barh(y = most_common_type.index, width = most_common_type, color = colors)\n",
        "plt.title('Most common type of government certification among warehouses')\n",
        "plt.show()"
      ],
      "metadata": {
        "colab": {
          "base_uri": "https://localhost:8080/",
          "height": 237
        },
        "id": "dp5CFo2B_byG",
        "outputId": "a98994f1-c217-410e-d93a-023c58acbf54"
      },
      "execution_count": null,
      "outputs": [
        {
          "output_type": "display_data",
          "data": {
            "text/plain": [
              "<Figure size 500x200 with 1 Axes>"
            ],
            "image/png": "[encoded data removed]"
          },
          "metadata": {}
        }
      ]
    },
    {
      "cell_type": "markdown",
      "source": [
        "Q11- What is the correlation between the number of workers and the number of reported storage issues in the last 3 months?"
      ],
      "metadata": {
        "id": "7XjCaXOoo3qR"
      }
    },
    {
      "cell_type": "code",
      "source": [
        "workers_and_issues = df[['workers_num','storage_issue_reported_l3m']]\n",
        "correlation = workers_and_issues.corr().loc['workers_num','storage_issue_reported_l3m']\n",
        "correlation"
      ],
      "metadata": {
        "colab": {
          "base_uri": "https://localhost:8080/"
        },
        "id": "Q688L7wqmEHM",
        "outputId": "3c5f22be-83f9-47fc-d3b0-e8fbab588f5e"
      },
      "execution_count": null,
      "outputs": [
        {
          "output_type": "execute_result",
          "data": {
            "text/plain": [
              "-0.008672981887991375"
            ]
          },
          "metadata": {},
          "execution_count": 31
        }
      ]
    },
    {
      "cell_type": "markdown",
      "source": [
        "#####a Pearson correlation coefficient of -0 indicates a negative linear relationship between the number of workers and reported storage issues, suggesting that an increase in workers may correspond with a decrease in reported storage issues"
      ],
      "metadata": {
        "id": "X3INHfeLrMAz"
      }
    },
    {
      "cell_type": "code",
      "source": [
        "sns.scatterplot(x='workers_num', y='storage_issue_reported_l3m', data=df)\n",
        "plt.title('Correlation between the number of workers and the number of reported storage issues in the last 3 months')\n",
        "plt.show()"
      ],
      "metadata": {
        "colab": {
          "base_uri": "https://localhost:8080/",
          "height": 472
        },
        "id": "16Jf9ThcNH_j",
        "outputId": "30c9a561-bf7f-42a1-f62b-65188799a3c8"
      },
      "execution_count": null,
      "outputs": [
        {
          "output_type": "display_data",
          "data": {
            "text/plain": [
              "<Figure size 640x480 with 1 Axes>"
            ],
            "image/png": "[encoded data removed]"
          },
          "metadata": {}
        }
      ]
    },
    {
      "cell_type": "markdown",
      "source": [
        "Q12-Analyze the relationship between warehouse capacity size and the number of refill requests in the last 3 months."
      ],
      "metadata": {
        "id": "uIqezfKEsGAL"
      }
    },
    {
      "cell_type": "code",
      "source": [
        "capacity_size = df.groupby('WH_capacity_size')['num_refill_req_l3m'].mean()\n",
        "capacity_size"
      ],
      "metadata": {
        "colab": {
          "base_uri": "https://localhost:8080/"
        },
        "id": "ojfQjxJutoxf",
        "outputId": "0dfa0efc-3629-4bbe-d8ad-39a778a5e497"
      },
      "execution_count": null,
      "outputs": [
        {
          "output_type": "execute_result",
          "data": {
            "text/plain": [
              "WH_capacity_size\n",
              "Large    4.093815\n",
              "Mid      4.113473\n",
              "Small    4.028061\n",
              "Name: num_refill_req_l3m, dtype: float64"
            ]
          },
          "metadata": {},
          "execution_count": 33
        }
      ]
    },
    {
      "cell_type": "markdown",
      "source": [
        "Q13-Identify which geographical zone has the highest average number of transport issues in the last year."
      ],
      "metadata": {
        "id": "EPGU5VJ5xguA"
      }
    },
    {
      "cell_type": "code",
      "source": [
        "Avg_number = df.groupby('zone')['transport_issue_l1y'].mean()\n",
        "Avg_number"
      ],
      "metadata": {
        "colab": {
          "base_uri": "https://localhost:8080/"
        },
        "id": "oubt9F1xxAFH",
        "outputId": "f4545911-ae55-42c7-db2a-d0659d9f70c2"
      },
      "execution_count": null,
      "outputs": [
        {
          "output_type": "execute_result",
          "data": {
            "text/plain": [
              "zone\n",
              "East     0.790210\n",
              "North    0.781086\n",
              "South    0.774599\n",
              "West     0.762451\n",
              "Name: transport_issue_l1y, dtype: float64"
            ]
          },
          "metadata": {},
          "execution_count": 34
        }
      ]
    },
    {
      "cell_type": "markdown",
      "source": [
        "Q14 - Calculate the average product weight per ton for warehouses that have temperature regulation machinery."
      ],
      "metadata": {
        "id": "M7GBmPiwygqB"
      }
    },
    {
      "cell_type": "code",
      "source": [
        "Avg_product_weight_per_ton = df.groupby('temp_reg_mach')['product_wg_ton'].mean()\n",
        "Avg_product_weight_per_ton"
      ],
      "metadata": {
        "colab": {
          "base_uri": "https://localhost:8080/"
        },
        "id": "GuLDXdI9yOBt",
        "outputId": "5f0f916e-9b13-4841-cc0f-ea9aacabbb54"
      },
      "execution_count": null,
      "outputs": [
        {
          "output_type": "execute_result",
          "data": {
            "text/plain": [
              "temp_reg_mach\n",
              "0    21324.260765\n",
              "1    23890.774070\n",
              "Name: product_wg_ton, dtype: float64"
            ]
          },
          "metadata": {},
          "execution_count": 35
        }
      ]
    },
    {
      "cell_type": "markdown",
      "source": [
        "  Q15-Determine the top 5 warehouses with the highest number of government checks in the last 3 months and analyze their storage issue reports."
      ],
      "metadata": {
        "id": "XaAM86mGzJcQ"
      }
    },
    {
      "cell_type": "code",
      "source": [
        "top_5_warehouse= df.nlargest(5, 'govt_check_l3m')\n",
        "compare = top_5_warehouse[['Ware_house_ID','govt_check_l3m','storage_issue_reported_l3m']]\n",
        "compare"
      ],
      "metadata": {
        "colab": {
          "base_uri": "https://localhost:8080/",
          "height": 206
        },
        "id": "FReuduDtzDQ8",
        "outputId": "60a5676d-41f0-4313-a545-6aa3ae2ea218"
      },
      "execution_count": null,
      "outputs": [
        {
          "output_type": "execute_result",
          "data": {
            "text/plain": [
              "    Ware_house_ID  govt_check_l3m  storage_issue_reported_l3m\n",
              "63      WH_100063              32                          20\n",
              "69      WH_100069              32                           9\n",
              "70      WH_100070              32                          17\n",
              "85      WH_100085              32                          18\n",
              "101     WH_100101              32                           8"
            ],
            "text/html": [
              "\n",
              "  <div id=\"df-1892ce2d-e53e-4a49-84ab-cb8ab8be55b5\" class=\"colab-df-container\">\n",
              "    <div>\n",
              "<style scoped>\n",
              "    .dataframe tbody tr th:only-of-type {\n",
              "        vertical-align: middle;\n",
              "    }\n",
              "\n",
              "    .dataframe tbody tr th {\n",
              "        vertical-align: top;\n",
              "    }\n",
              "\n",
              "    .dataframe thead th {\n",
              "        text-align: right;\n",
              "    }\n",
              "</style>\n",
              "<table border=\"1\" class=\"dataframe\">\n",
              "  <thead>\n",
              "    <tr style=\"text-align: right;\">\n",
              "      <th></th>\n",
              "      <th>Ware_house_ID</th>\n",
              "      <th>govt_check_l3m</th>\n",
              "      <th>storage_issue_reported_l3m</th>\n",
              "    </tr>\n",
              "  </thead>\n",
              "  <tbody>\n",
              "    <tr>\n",
              "      <th>63</th>\n",
              "      <td>WH_100063</td>\n",
              "      <td>32</td>\n",
              "      <td>20</td>\n",
              "    </tr>\n",
              "    <tr>\n",
              "      <th>69</th>\n",
              "      <td>WH_100069</td>\n",
              "      <td>32</td>\n",
              "      <td>9</td>\n",
              "    </tr>\n",
              "    <tr>\n",
              "      <th>70</th>\n",
              "      <td>WH_100070</td>\n",
              "      <td>32</td>\n",
              "      <td>17</td>\n",
              "    </tr>\n",
              "    <tr>\n",
              "      <th>85</th>\n",
              "      <td>WH_100085</td>\n",
              "      <td>32</td>\n",
              "      <td>18</td>\n",
              "    </tr>\n",
              "    <tr>\n",
              "      <th>101</th>\n",
              "      <td>WH_100101</td>\n",
              "      <td>32</td>\n",
              "      <td>8</td>\n",
              "    </tr>\n",
              "  </tbody>\n",
              "</table>\n",
              "</div>\n",
              "    <div class=\"colab-df-buttons\">\n",
              "\n",
              "  <div class=\"colab-df-container\">\n",
              "    <button class=\"colab-df-convert\" onclick=\"convertToInteractive('df-1892ce2d-e53e-4a49-84ab-cb8ab8be55b5')\"\n",
              "            title=\"Convert this dataframe to an interactive table.\"\n",
              "            style=\"display:none;\">\n",
              "\n",
              "  <svg xmlns=\"http://www.w3.org/2000/svg\" height=\"24px\" viewBox=\"0 -960 960 960\">\n",
              "    <path d=\"M120-120v-720h720v720H120Zm60-500h600v-160H180v160Zm220 220h160v-160H400v160Zm0 220h160v-160H400v160ZM180-400h160v-160H180v160Zm440 0h160v-160H620v160ZM180-180h160v-160H180v160Zm440 0h160v-160H620v160Z\"/>\n",
              "  </svg>\n",
              "    </button>\n",
              "\n",
              "  <style>\n",
              "    .colab-df-container {\n",
              "      display:flex;\n",
              "      gap: 12px;\n",
              "    }\n",
              "\n",
              "    .colab-df-convert {\n",
              "      background-color: #E8F0FE;\n",
              "      border: none;\n",
              "      border-radius: 50%;\n",
              "      cursor: pointer;\n",
              "      display: none;\n",
              "      fill: #1967D2;\n",
              "      height: 32px;\n",
              "      padding: 0 0 0 0;\n",
              "      width: 32px;\n",
              "    }\n",
              "\n",
              "    .colab-df-convert:hover {\n",
              "      background-color: #E2EBFA;\n",
              "      box-shadow: 0px 1px 2px rgba(60, 64, 67, 0.3), 0px 1px 3px 1px rgba(60, 64, 67, 0.15);\n",
              "      fill: #174EA6;\n",
              "    }\n",
              "\n",
              "    .colab-df-buttons div {\n",
              "      margin-bottom: 4px;\n",
              "    }\n",
              "\n",
              "    [theme=dark] .colab-df-convert {\n",
              "      background-color: #3B4455;\n",
              "      fill: #D2E3FC;\n",
              "    }\n",
              "\n",
              "    [theme=dark] .colab-df-convert:hover {\n",
              "      background-color: #434B5C;\n",
              "      box-shadow: 0px 1px 3px 1px rgba(0, 0, 0, 0.15);\n",
              "      filter: drop-shadow(0px 1px 2px rgba(0, 0, 0, 0.3));\n",
              "      fill: #FFFFFF;\n",
              "    }\n",
              "  </style>\n",
              "\n",
              "    <script>\n",
              "      const buttonEl =\n",
              "        document.querySelector('#df-1892ce2d-e53e-4a49-84ab-cb8ab8be55b5 button.colab-df-convert');\n",
              "      buttonEl.style.display =\n",
              "        google.colab.kernel.accessAllowed ? 'block' : 'none';\n",
              "\n",
              "      async function convertToInteractive(key) {\n",
              "        const element = document.querySelector('#df-1892ce2d-e53e-4a49-84ab-cb8ab8be55b5');\n",
              "        const dataTable =\n",
              "          await google.colab.kernel.invokeFunction('convertToInteractive',\n",
              "                                                    [key], {});\n",
              "        if (!dataTable) return;\n",
              "\n",
              "        const docLinkHtml = 'Like what you see? Visit the ' +\n",
              "          '<a target=\"_blank\" href=https://colab.research.google.com/notebooks/data_table.ipynb>data table notebook</a>'\n",
              "          + ' to learn more about interactive tables.';\n",
              "        element.innerHTML = '';\n",
              "        dataTable['output_type'] = 'display_data';\n",
              "        await google.colab.output.renderOutput(dataTable, element);\n",
              "        const docLink = document.createElement('div');\n",
              "        docLink.innerHTML = docLinkHtml;\n",
              "        element.appendChild(docLink);\n",
              "      }\n",
              "    </script>\n",
              "  </div>\n",
              "\n",
              "\n",
              "<div id=\"df-f0c1ce22-d18a-4100-b19f-1a96532bb559\">\n",
              "  <button class=\"colab-df-quickchart\" onclick=\"quickchart('df-f0c1ce22-d18a-4100-b19f-1a96532bb559')\"\n",
              "            title=\"Suggest charts\"\n",
              "            style=\"display:none;\">\n",
              "\n",
              "<svg xmlns=\"http://www.w3.org/2000/svg\" height=\"24px\"viewBox=\"0 0 24 24\"\n",
              "     width=\"24px\">\n",
              "    <g>\n",
              "        <path d=\"M19 3H5c-1.1 0-2 .9-2 2v14c0 1.1.9 2 2 2h14c1.1 0 2-.9 2-2V5c0-1.1-.9-2-2-2zM9 17H7v-7h2v7zm4 0h-2V7h2v10zm4 0h-2v-4h2v4z\"/>\n",
              "    </g>\n",
              "</svg>\n",
              "  </button>\n",
              "\n",
              "<style>\n",
              "  .colab-df-quickchart {\n",
              "      --bg-color: #E8F0FE;\n",
              "      --fill-color: #1967D2;\n",
              "      --hover-bg-color: #E2EBFA;\n",
              "      --hover-fill-color: #174EA6;\n",
              "      --disabled-fill-color: #AAA;\n",
              "      --disabled-bg-color: #DDD;\n",
              "  }\n",
              "\n",
              "  [theme=dark] .colab-df-quickchart {\n",
              "      --bg-color: #3B4455;\n",
              "      --fill-color: #D2E3FC;\n",
              "      --hover-bg-color: #434B5C;\n",
              "      --hover-fill-color: #FFFFFF;\n",
              "      --disabled-bg-color: #3B4455;\n",
              "      --disabled-fill-color: #666;\n",
              "  }\n",
              "\n",
              "  .colab-df-quickchart {\n",
              "    background-color: var(--bg-color);\n",
              "    border: none;\n",
              "    border-radius: 50%;\n",
              "    cursor: pointer;\n",
              "    display: none;\n",
              "    fill: var(--fill-color);\n",
              "    height: 32px;\n",
              "    padding: 0;\n",
              "    width: 32px;\n",
              "  }\n",
              "\n",
              "  .colab-df-quickchart:hover {\n",
              "    background-color: var(--hover-bg-color);\n",
              "    box-shadow: 0 1px 2px rgba(60, 64, 67, 0.3), 0 1px 3px 1px rgba(60, 64, 67, 0.15);\n",
              "    fill: var(--button-hover-fill-color);\n",
              "  }\n",
              "\n",
              "  .colab-df-quickchart-complete:disabled,\n",
              "  .colab-df-quickchart-complete:disabled:hover {\n",
              "    background-color: var(--disabled-bg-color);\n",
              "    fill: var(--disabled-fill-color);\n",
              "    box-shadow: none;\n",
              "  }\n",
              "\n",
              "  .colab-df-spinner {\n",
              "    border: 2px solid var(--fill-color);\n",
              "    border-color: transparent;\n",
              "    border-bottom-color: var(--fill-color);\n",
              "    animation:\n",
              "      spin 1s steps(1) infinite;\n",
              "  }\n",
              "\n",
              "  @keyframes spin {\n",
              "    0% {\n",
              "      border-color: transparent;\n",
              "      border-bottom-color: var(--fill-color);\n",
              "      border-left-color: var(--fill-color);\n",
              "    }\n",
              "    20% {\n",
              "      border-color: transparent;\n",
              "      border-left-color: var(--fill-color);\n",
              "      border-top-color: var(--fill-color);\n",
              "    }\n",
              "    30% {\n",
              "      border-color: transparent;\n",
              "      border-left-color: var(--fill-color);\n",
              "      border-top-color: var(--fill-color);\n",
              "      border-right-color: var(--fill-color);\n",
              "    }\n",
              "    40% {\n",
              "      border-color: transparent;\n",
              "      border-right-color: var(--fill-color);\n",
              "      border-top-color: var(--fill-color);\n",
              "    }\n",
              "    60% {\n",
              "      border-color: transparent;\n",
              "      border-right-color: var(--fill-color);\n",
              "    }\n",
              "    80% {\n",
              "      border-color: transparent;\n",
              "      border-right-color: var(--fill-color);\n",
              "      border-bottom-color: var(--fill-color);\n",
              "    }\n",
              "    90% {\n",
              "      border-color: transparent;\n",
              "      border-bottom-color: var(--fill-color);\n",
              "    }\n",
              "  }\n",
              "</style>\n",
              "\n",
              "  <script>\n",
              "    async function quickchart(key) {\n",
              "      const quickchartButtonEl =\n",
              "        document.querySelector('#' + key + ' button');\n",
              "      quickchartButtonEl.disabled = true;  // To prevent multiple clicks.\n",
              "      quickchartButtonEl.classList.add('colab-df-spinner');\n",
              "      try {\n",
              "        const charts = await google.colab.kernel.invokeFunction(\n",
              "            'suggestCharts', [key], {});\n",
              "      } catch (error) {\n",
              "        console.error('Error during call to suggestCharts:', error);\n",
              "      }\n",
              "      quickchartButtonEl.classList.remove('colab-df-spinner');\n",
              "      quickchartButtonEl.classList.add('colab-df-quickchart-complete');\n",
              "    }\n",
              "    (() => {\n",
              "      let quickchartButtonEl =\n",
              "        document.querySelector('#df-f0c1ce22-d18a-4100-b19f-1a96532bb559 button');\n",
              "      quickchartButtonEl.style.display =\n",
              "        google.colab.kernel.accessAllowed ? 'block' : 'none';\n",
              "    })();\n",
              "  </script>\n",
              "</div>\n",
              "\n",
              "  <div id=\"id_f00b736a-ce81-4da0-b4b4-077e77e1cf6a\">\n",
              "    <style>\n",
              "      .colab-df-generate {\n",
              "        background-color: #E8F0FE;\n",
              "        border: none;\n",
              "        border-radius: 50%;\n",
              "        cursor: pointer;\n",
              "        display: none;\n",
              "        fill: #1967D2;\n",
              "        height: 32px;\n",
              "        padding: 0 0 0 0;\n",
              "        width: 32px;\n",
              "      }\n",
              "\n",
              "      .colab-df-generate:hover {\n",
              "        background-color: #E2EBFA;\n",
              "        box-shadow: 0px 1px 2px rgba(60, 64, 67, 0.3), 0px 1px 3px 1px rgba(60, 64, 67, 0.15);\n",
              "        fill: #174EA6;\n",
              "      }\n",
              "\n",
              "      [theme=dark] .colab-df-generate {\n",
              "        background-color: #3B4455;\n",
              "        fill: #D2E3FC;\n",
              "      }\n",
              "\n",
              "      [theme=dark] .colab-df-generate:hover {\n",
              "        background-color: #434B5C;\n",
              "        box-shadow: 0px 1px 3px 1px rgba(0, 0, 0, 0.15);\n",
              "        filter: drop-shadow(0px 1px 2px rgba(0, 0, 0, 0.3));\n",
              "        fill: #FFFFFF;\n",
              "      }\n",
              "    </style>\n",
              "    <button class=\"colab-df-generate\" onclick=\"generateWithVariable('compare')\"\n",
              "            title=\"Generate code using this dataframe.\"\n",
              "            style=\"display:none;\">\n",
              "\n",
              "  <svg xmlns=\"http://www.w3.org/2000/svg\" height=\"24px\"viewBox=\"0 0 24 24\"\n",
              "       width=\"24px\">\n",
              "    <path d=\"M7,19H8.4L18.45,9,17,7.55,7,17.6ZM5,21V16.75L18.45,3.32a2,2,0,0,1,2.83,0l1.4,1.43a1.91,1.91,0,0,1,.58,1.4,1.91,1.91,0,0,1-.58,1.4L9.25,21ZM18.45,9,17,7.55Zm-12,3A5.31,5.31,0,0,0,4.9,8.1,5.31,5.31,0,0,0,1,6.5,5.31,5.31,0,0,0,4.9,4.9,5.31,5.31,0,0,0,6.5,1,5.31,5.31,0,0,0,8.1,4.9,5.31,5.31,0,0,0,12,6.5,5.46,5.46,0,0,0,6.5,12Z\"/>\n",
              "  </svg>\n",
              "    </button>\n",
              "    <script>\n",
              "      (() => {\n",
              "      const buttonEl =\n",
              "        document.querySelector('#id_f00b736a-ce81-4da0-b4b4-077e77e1cf6a button.colab-df-generate');\n",
              "      buttonEl.style.display =\n",
              "        google.colab.kernel.accessAllowed ? 'block' : 'none';\n",
              "\n",
              "      buttonEl.onclick = () => {\n",
              "        google.colab.notebook.generateWithVariable('compare');\n",
              "      }\n",
              "      })();\n",
              "    </script>\n",
              "  </div>\n",
              "\n",
              "    </div>\n",
              "  </div>\n"
            ],
            "application/vnd.google.colaboratory.intrinsic+json": {
              "type": "dataframe",
              "variable_name": "compare",
              "summary": "{\n  \"name\": \"compare\",\n  \"rows\": 5,\n  \"fields\": [\n    {\n      \"column\": \"Ware_house_ID\",\n      \"properties\": {\n        \"dtype\": \"string\",\n        \"num_unique_values\": 5,\n        \"samples\": [\n          \"WH_100069\",\n          \"WH_100101\",\n          \"WH_100070\"\n        ],\n        \"semantic_type\": \"\",\n        \"description\": \"\"\n      }\n    },\n    {\n      \"column\": \"govt_check_l3m\",\n      \"properties\": {\n        \"dtype\": \"number\",\n        \"std\": 0,\n        \"min\": 32,\n        \"max\": 32,\n        \"num_unique_values\": 1,\n        \"samples\": [\n          32\n        ],\n        \"semantic_type\": \"\",\n        \"description\": \"\"\n      }\n    },\n    {\n      \"column\": \"storage_issue_reported_l3m\",\n      \"properties\": {\n        \"dtype\": \"number\",\n        \"std\": 5,\n        \"min\": 8,\n        \"max\": 20,\n        \"num_unique_values\": 5,\n        \"samples\": [\n          9\n        ],\n        \"semantic_type\": \"\",\n        \"description\": \"\"\n      }\n    }\n  ]\n}"
            }
          },
          "metadata": {},
          "execution_count": 36
        }
      ]
    },
    {
      "cell_type": "markdown",
      "source": [
        "Q16-Compare the average number of workers in warehouses located in urban areas versus rural areas."
      ],
      "metadata": {
        "id": "TxKpA-Bc4T3g"
      }
    },
    {
      "cell_type": "code",
      "source": [
        "Avg_no_of_workers = df.groupby('Location_type')['workers_num'].mean()\n",
        "Avg_no_of_workers"
      ],
      "metadata": {
        "colab": {
          "base_uri": "https://localhost:8080/"
        },
        "id": "7d3BYGVm4IkE",
        "outputId": "f8a5af00-f8a0-445f-f5f5-60e5abf2d563"
      },
      "execution_count": null,
      "outputs": [
        {
          "output_type": "execute_result",
          "data": {
            "text/plain": [
              "Location_type\n",
              "Rural    28.950823\n",
              "Urban    28.872395\n",
              "Name: workers_num, dtype: float64"
            ]
          },
          "metadata": {},
          "execution_count": 37
        }
      ]
    },
    {
      "cell_type": "markdown",
      "source": [
        "Q17-What is the impact of the distance from the hub on the number of transport issues reported?"
      ],
      "metadata": {
        "id": "wkaABbBE4uIy"
      }
    },
    {
      "cell_type": "code",
      "source": [
        "issue_reported = df[['transport_issue_l1y','dist_from_hub']]\n",
        "correlation = issue_reported.corr().loc['transport_issue_l1y','dist_from_hub']\n",
        "correlation\n"
      ],
      "metadata": {
        "colab": {
          "base_uri": "https://localhost:8080/"
        },
        "id": "dubFmWDQ4oPi",
        "outputId": "137c6842-9f74-4976-d7cd-dee16da6bfaa"
      },
      "execution_count": null,
      "outputs": [
        {
          "output_type": "execute_result",
          "data": {
            "text/plain": [
              "0.014335793369184967"
            ]
          },
          "metadata": {},
          "execution_count": 43
        }
      ]
    },
    {
      "cell_type": "markdown",
      "source": [
        "#####A correlation coefficient of 0.01433 between the distance from the hub and transport issues over the last year means that there is no linear relationship between these two variables. In other words, changes in the distance from the hub do not predict or explain changes in the number of transport issues."
      ],
      "metadata": {
        "id": "VqBmimpIE_Ez"
      }
    },
    {
      "cell_type": "markdown",
      "source": [
        "Q18-Analyze the effect of competitor presence in the market on the number of refill requests."
      ],
      "metadata": {
        "id": "6mV2QktH5gNP"
      }
    },
    {
      "cell_type": "code",
      "source": [
        "effect = df[['Competitor_in_mkt','num_refill_req_l3m']]\n",
        "correlation = effect.corr().loc['Competitor_in_mkt','num_refill_req_l3m']\n",
        "correlation"
      ],
      "metadata": {
        "colab": {
          "base_uri": "https://localhost:8080/"
        },
        "id": "oogMchXw5dd8",
        "outputId": "085d5175-8834-4aa2-8a29-405a86effc6d"
      },
      "execution_count": null,
      "outputs": [
        {
          "output_type": "execute_result",
          "data": {
            "text/plain": [
              "0.002984801489494774"
            ]
          },
          "metadata": {},
          "execution_count": 44
        }
      ]
    },
    {
      "cell_type": "markdown",
      "source": [
        "##### A correlation of 0.0029 between the competitor in market and number of refill request last 3 months means that there is no linear relationship between these two variables. In other words, changes in the competitors in market do not predict or explain changes in the number of refill request last 3 months."
      ],
      "metadata": {
        "id": "HFZv-R5AFlgw"
      }
    },
    {
      "cell_type": "markdown",
      "source": [
        "Q19-Determine if there is a significant difference in the number of storage issues reported between warehouses with and without government certificates."
      ],
      "metadata": {
        "id": "WxbEkTLm6EJ5"
      }
    },
    {
      "cell_type": "code",
      "source": [
        "df['approved_wh_govt_certificate'].fillna('Not Certified', inplace = True) #filling null value with Not Certified\n",
        "df['approved_wh_govt_certificate'].isnull().sum()\n"
      ],
      "metadata": {
        "colab": {
          "base_uri": "https://localhost:8080/"
        },
        "id": "exjuIdu25-63",
        "outputId": "e63a4e37-7d68-41f4-f2dd-3b03f241d8e8"
      },
      "execution_count": null,
      "outputs": [
        {
          "output_type": "execute_result",
          "data": {
            "text/plain": [
              "0"
            ]
          },
          "metadata": {},
          "execution_count": 27
        }
      ]
    },
    {
      "cell_type": "code",
      "source": [
        "storage_by_certificate = df.groupby('approved_wh_govt_certificate')['storage_issue_reported_l3m'].count()\n",
        "count_certified = (df['approved_wh_govt_certificate']!='Not Certified').sum()\n",
        "count_not_certified =storage_by_certificate.get('Not Certified')\n",
        "print(storage_by_certificate)\n",
        "print(count_certified)\n",
        "print(count_not_certified)"
      ],
      "metadata": {
        "colab": {
          "base_uri": "https://localhost:8080/"
        },
        "id": "WLU_sKlpDyNc",
        "outputId": "33d9d460-023b-4bab-f9b9-84e819438906"
      },
      "execution_count": null,
      "outputs": [
        {
          "output_type": "stream",
          "name": "stdout",
          "text": [
            "approved_wh_govt_certificate\n",
            "A                4671\n",
            "A+               4191\n",
            "B                4812\n",
            "B+               4917\n",
            "C                5501\n",
            "Not Certified     908\n",
            "Name: storage_issue_reported_l3m, dtype: int64\n",
            "24092\n",
            "908\n"
          ]
        }
      ]
    },
    {
      "cell_type": "code",
      "source": [
        "difference = count_certified - count_not_certified\n",
        "print(difference) # difference in the number of storage issues reported between warehouses with and without government certificates."
      ],
      "metadata": {
        "colab": {
          "base_uri": "https://localhost:8080/"
        },
        "id": "pDBHu7S9JBP0",
        "outputId": "a2bda73b-f60a-42e3-abaf-1f3b5b0b6f87"
      },
      "execution_count": null,
      "outputs": [
        {
          "output_type": "stream",
          "name": "stdout",
          "text": [
            "23184\n"
          ]
        }
      ]
    },
    {
      "cell_type": "markdown",
      "source": [
        "Q20-Investigate the relationship between warehouse establishment year and the number of breakdowns reported in the last 3 months."
      ],
      "metadata": {
        "id": "QxTpn43rMC2C"
      }
    },
    {
      "cell_type": "code",
      "source": [
        "warehouse = df[['wh_est_year','wh_breakdown_l3m']]\n",
        "correlation = warehouse.corr().loc['wh_est_year','wh_breakdown_l3m']\n",
        "correlation"
      ],
      "metadata": {
        "id": "jrZtKDDVMCEh",
        "colab": {
          "base_uri": "https://localhost:8080/"
        },
        "outputId": "9eee474b-f494-48ad-f54d-8f9afdb92464"
      },
      "execution_count": null,
      "outputs": [
        {
          "output_type": "execute_result",
          "data": {
            "text/plain": [
              "-0.3988007362051897"
            ]
          },
          "metadata": {},
          "execution_count": 31
        }
      ]
    },
    {
      "cell_type": "markdown",
      "source": [
        "#####A correlation coefficient of -0.039 between the warehouse establishment year and the number of breakdowns reported in the last 3 months indicates that there is a very weak and practically negligible negative linear relationship between these two variables."
      ],
      "metadata": {
        "id": "1m2nV3tPL-LN"
      }
    },
    {
      "cell_type": "code",
      "source": [
        "plt.figure(figsize=(5,2))\n",
        "sns.scatterplot(x='wh_est_year', y='wh_breakdown_l3m', data=df)\n",
        "plt.title('Relationship between warehouse establishment year and the number of breakdowns reported in the last 3 months')\n",
        "plt.show()"
      ],
      "metadata": {
        "id": "xU7S-CwsLK6K",
        "colab": {
          "base_uri": "https://localhost:8080/",
          "height": 256
        },
        "outputId": "bfc5b4b7-15d6-4bfe-a237-f61525a2a53d"
      },
      "execution_count": null,
      "outputs": [
        {
          "output_type": "display_data",
          "data": {
            "text/plain": [
              "<Figure size 500x200 with 1 Axes>"
            ],
            "image/png": "[encoded data removed]"
          },
          "metadata": {}
        }
      ]
    }
  ]
}